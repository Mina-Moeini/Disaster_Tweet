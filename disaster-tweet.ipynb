{
 "cells": [
  {
   "cell_type": "code",
   "execution_count": 1,
   "id": "0530b289",
   "metadata": {
    "_cell_guid": "b1076dfc-b9ad-4769-8c92-a6c4dae69d19",
    "_uuid": "8f2839f25d086af736a60e9eeb907d3b93b6e0e5",
    "execution": {
     "iopub.execute_input": "2023-08-11T14:29:55.038067Z",
     "iopub.status.busy": "2023-08-11T14:29:55.036997Z",
     "iopub.status.idle": "2023-08-11T14:29:55.052105Z",
     "shell.execute_reply": "2023-08-11T14:29:55.051320Z"
    },
    "papermill": {
     "duration": 0.032268,
     "end_time": "2023-08-11T14:29:55.054706",
     "exception": false,
     "start_time": "2023-08-11T14:29:55.022438",
     "status": "completed"
    },
    "tags": []
   },
   "outputs": [
    {
     "name": "stdout",
     "output_type": "stream",
     "text": [
      "/kaggle/input/nlp-getting-started/sample_submission.csv\n",
      "/kaggle/input/nlp-getting-started/train.csv\n",
      "/kaggle/input/nlp-getting-started/test.csv\n"
     ]
    }
   ],
   "source": [
    "# This Python 3 environment comes with many helpful analytics libraries installed\n",
    "# It is defined by the kaggle/python Docker image: https://github.com/kaggle/docker-python\n",
    "# For example, here's several helpful packages to load\n",
    "\n",
    "import numpy as np # linear algebra\n",
    "import pandas as pd # data processing, CSV file I/O (e.g. pd.read_csv)\n",
    "import re\n",
    "import string\n",
    "\n",
    "# Input data files are available in the read-only \"../input/\" directory\n",
    "# For example, running this (by clicking run or pressing Shift+Enter) will list all files under the input directory\n",
    "\n",
    "import os\n",
    "for dirname, _, filenames in os.walk('/kaggle/input'):\n",
    "    for filename in filenames:\n",
    "        print(os.path.join(dirname, filename))\n",
    "        \n",
    "# You can write up to 20GB to the current directory (/kaggle/working/) that gets preserved as output when you create a version using \"Save & Run All\" \n",
    "# You can also write temporary files to /kaggle/temp/, but they won't be saved outside of the current session\n"
   ]
  },
  {
   "cell_type": "code",
   "execution_count": 2,
   "id": "a636f9de",
   "metadata": {
    "execution": {
     "iopub.execute_input": "2023-08-11T14:29:55.078988Z",
     "iopub.status.busy": "2023-08-11T14:29:55.077877Z",
     "iopub.status.idle": "2023-08-11T14:29:56.522947Z",
     "shell.execute_reply": "2023-08-11T14:29:56.521669Z"
    },
    "papermill": {
     "duration": 1.459749,
     "end_time": "2023-08-11T14:29:56.525638",
     "exception": false,
     "start_time": "2023-08-11T14:29:55.065889",
     "status": "completed"
    },
    "tags": []
   },
   "outputs": [
    {
     "name": "stderr",
     "output_type": "stream",
     "text": [
      "/opt/conda/lib/python3.10/site-packages/scipy/__init__.py:146: UserWarning: A NumPy version >=1.16.5 and <1.23.0 is required for this version of SciPy (detected version 1.23.5\n",
      "  warnings.warn(f\"A NumPy version >={np_minversion} and <{np_maxversion}\"\n"
     ]
    },
    {
     "data": {
      "text/html": [
       "<div>\n",
       "<style scoped>\n",
       "    .dataframe tbody tr th:only-of-type {\n",
       "        vertical-align: middle;\n",
       "    }\n",
       "\n",
       "    .dataframe tbody tr th {\n",
       "        vertical-align: top;\n",
       "    }\n",
       "\n",
       "    .dataframe thead th {\n",
       "        text-align: right;\n",
       "    }\n",
       "</style>\n",
       "<table border=\"1\" class=\"dataframe\">\n",
       "  <thead>\n",
       "    <tr style=\"text-align: right;\">\n",
       "      <th></th>\n",
       "      <th>id</th>\n",
       "      <th>keyword</th>\n",
       "      <th>location</th>\n",
       "      <th>text</th>\n",
       "      <th>target</th>\n",
       "    </tr>\n",
       "  </thead>\n",
       "  <tbody>\n",
       "    <tr>\n",
       "      <th>0</th>\n",
       "      <td>1</td>\n",
       "      <td>NaN</td>\n",
       "      <td>NaN</td>\n",
       "      <td>Our Deeds are the Reason of this #earthquake M...</td>\n",
       "      <td>1</td>\n",
       "    </tr>\n",
       "    <tr>\n",
       "      <th>1</th>\n",
       "      <td>4</td>\n",
       "      <td>NaN</td>\n",
       "      <td>NaN</td>\n",
       "      <td>Forest fire near La Ronge Sask. Canada</td>\n",
       "      <td>1</td>\n",
       "    </tr>\n",
       "    <tr>\n",
       "      <th>2</th>\n",
       "      <td>5</td>\n",
       "      <td>NaN</td>\n",
       "      <td>NaN</td>\n",
       "      <td>All residents asked to 'shelter in place' are ...</td>\n",
       "      <td>1</td>\n",
       "    </tr>\n",
       "    <tr>\n",
       "      <th>3</th>\n",
       "      <td>6</td>\n",
       "      <td>NaN</td>\n",
       "      <td>NaN</td>\n",
       "      <td>13,000 people receive #wildfires evacuation or...</td>\n",
       "      <td>1</td>\n",
       "    </tr>\n",
       "    <tr>\n",
       "      <th>4</th>\n",
       "      <td>7</td>\n",
       "      <td>NaN</td>\n",
       "      <td>NaN</td>\n",
       "      <td>Just got sent this photo from Ruby #Alaska as ...</td>\n",
       "      <td>1</td>\n",
       "    </tr>\n",
       "  </tbody>\n",
       "</table>\n",
       "</div>"
      ],
      "text/plain": [
       "   id keyword location                                               text  \\\n",
       "0   1     NaN      NaN  Our Deeds are the Reason of this #earthquake M...   \n",
       "1   4     NaN      NaN             Forest fire near La Ronge Sask. Canada   \n",
       "2   5     NaN      NaN  All residents asked to 'shelter in place' are ...   \n",
       "3   6     NaN      NaN  13,000 people receive #wildfires evacuation or...   \n",
       "4   7     NaN      NaN  Just got sent this photo from Ruby #Alaska as ...   \n",
       "\n",
       "   target  \n",
       "0       1  \n",
       "1       1  \n",
       "2       1  \n",
       "3       1  \n",
       "4       1  "
      ]
     },
     "execution_count": 2,
     "metadata": {},
     "output_type": "execute_result"
    }
   ],
   "source": [
    "#Import necessary libraries\n",
    "import matplotlib.pyplot as plt\n",
    "import seaborn as sns\n",
    "#Import data\n",
    "df_train = pd.read_csv ('/kaggle/input/nlp-getting-started/train.csv')\n",
    "df_test = pd.read_csv('/kaggle/input/nlp-getting-started/train.csv')\n",
    "df_train.head()"
   ]
  },
  {
   "cell_type": "markdown",
   "id": "a4047cfb",
   "metadata": {
    "papermill": {
     "duration": 0.010701,
     "end_time": "2023-08-11T14:29:56.547518",
     "exception": false,
     "start_time": "2023-08-11T14:29:56.536817",
     "status": "completed"
    },
    "tags": []
   },
   "source": [
    "# 📊 **EDA**"
   ]
  },
  {
   "cell_type": "markdown",
   "id": "8d4f3846",
   "metadata": {
    "papermill": {
     "duration": 0.010609,
     "end_time": "2023-08-11T14:29:56.569226",
     "exception": false,
     "start_time": "2023-08-11T14:29:56.558617",
     "status": "completed"
    },
    "tags": []
   },
   "source": [
    "✅ **Checking for missing value**[](http://)"
   ]
  },
  {
   "cell_type": "code",
   "execution_count": 3,
   "id": "cb803da0",
   "metadata": {
    "execution": {
     "iopub.execute_input": "2023-08-11T14:29:56.592833Z",
     "iopub.status.busy": "2023-08-11T14:29:56.592426Z",
     "iopub.status.idle": "2023-08-11T14:29:56.612333Z",
     "shell.execute_reply": "2023-08-11T14:29:56.611218Z"
    },
    "papermill": {
     "duration": 0.034714,
     "end_time": "2023-08-11T14:29:56.614902",
     "exception": false,
     "start_time": "2023-08-11T14:29:56.580188",
     "status": "completed"
    },
    "tags": []
   },
   "outputs": [
    {
     "data": {
      "text/plain": [
       "id             0\n",
       "keyword       61\n",
       "location    2533\n",
       "text           0\n",
       "target         0\n",
       "dtype: int64"
      ]
     },
     "execution_count": 3,
     "metadata": {},
     "output_type": "execute_result"
    }
   ],
   "source": [
    "df_train.isnull().sum()"
   ]
  },
  {
   "cell_type": "code",
   "execution_count": 4,
   "id": "7b3c5628",
   "metadata": {
    "execution": {
     "iopub.execute_input": "2023-08-11T14:29:56.639095Z",
     "iopub.status.busy": "2023-08-11T14:29:56.638695Z",
     "iopub.status.idle": "2023-08-11T14:29:56.654555Z",
     "shell.execute_reply": "2023-08-11T14:29:56.653733Z"
    },
    "papermill": {
     "duration": 0.030474,
     "end_time": "2023-08-11T14:29:56.656645",
     "exception": false,
     "start_time": "2023-08-11T14:29:56.626171",
     "status": "completed"
    },
    "tags": []
   },
   "outputs": [
    {
     "data": {
      "text/plain": [
       "id             0\n",
       "keyword       61\n",
       "location    2533\n",
       "text           0\n",
       "target         0\n",
       "dtype: int64"
      ]
     },
     "execution_count": 4,
     "metadata": {},
     "output_type": "execute_result"
    }
   ],
   "source": [
    "df_test.isnull().sum()"
   ]
  },
  {
   "cell_type": "markdown",
   "id": "5fb6503b",
   "metadata": {
    "papermill": {
     "duration": 0.011039,
     "end_time": "2023-08-11T14:29:56.679106",
     "exception": false,
     "start_time": "2023-08-11T14:29:56.668067",
     "status": "completed"
    },
    "tags": []
   },
   "source": [
    "✅**Handling missing value**[](http://)"
   ]
  },
  {
   "cell_type": "code",
   "execution_count": 5,
   "id": "d2768571",
   "metadata": {
    "execution": {
     "iopub.execute_input": "2023-08-11T14:29:56.703834Z",
     "iopub.status.busy": "2023-08-11T14:29:56.703216Z",
     "iopub.status.idle": "2023-08-11T14:29:56.729712Z",
     "shell.execute_reply": "2023-08-11T14:29:56.728392Z"
    },
    "papermill": {
     "duration": 0.041526,
     "end_time": "2023-08-11T14:29:56.731958",
     "exception": false,
     "start_time": "2023-08-11T14:29:56.690432",
     "status": "completed"
    },
    "tags": []
   },
   "outputs": [
    {
     "data": {
      "text/html": [
       "<div>\n",
       "<style scoped>\n",
       "    .dataframe tbody tr th:only-of-type {\n",
       "        vertical-align: middle;\n",
       "    }\n",
       "\n",
       "    .dataframe tbody tr th {\n",
       "        vertical-align: top;\n",
       "    }\n",
       "\n",
       "    .dataframe thead th {\n",
       "        text-align: right;\n",
       "    }\n",
       "</style>\n",
       "<table border=\"1\" class=\"dataframe\">\n",
       "  <thead>\n",
       "    <tr style=\"text-align: right;\">\n",
       "      <th></th>\n",
       "      <th>id</th>\n",
       "      <th>keyword</th>\n",
       "      <th>location</th>\n",
       "      <th>text</th>\n",
       "      <th>target</th>\n",
       "    </tr>\n",
       "  </thead>\n",
       "  <tbody>\n",
       "    <tr>\n",
       "      <th>0</th>\n",
       "      <td>1</td>\n",
       "      <td>no_keyword</td>\n",
       "      <td>no_location</td>\n",
       "      <td>Our Deeds are the Reason of this #earthquake M...</td>\n",
       "      <td>1</td>\n",
       "    </tr>\n",
       "    <tr>\n",
       "      <th>1</th>\n",
       "      <td>4</td>\n",
       "      <td>no_keyword</td>\n",
       "      <td>no_location</td>\n",
       "      <td>Forest fire near La Ronge Sask. Canada</td>\n",
       "      <td>1</td>\n",
       "    </tr>\n",
       "    <tr>\n",
       "      <th>2</th>\n",
       "      <td>5</td>\n",
       "      <td>no_keyword</td>\n",
       "      <td>no_location</td>\n",
       "      <td>All residents asked to 'shelter in place' are ...</td>\n",
       "      <td>1</td>\n",
       "    </tr>\n",
       "    <tr>\n",
       "      <th>3</th>\n",
       "      <td>6</td>\n",
       "      <td>no_keyword</td>\n",
       "      <td>no_location</td>\n",
       "      <td>13,000 people receive #wildfires evacuation or...</td>\n",
       "      <td>1</td>\n",
       "    </tr>\n",
       "    <tr>\n",
       "      <th>4</th>\n",
       "      <td>7</td>\n",
       "      <td>no_keyword</td>\n",
       "      <td>no_location</td>\n",
       "      <td>Just got sent this photo from Ruby #Alaska as ...</td>\n",
       "      <td>1</td>\n",
       "    </tr>\n",
       "    <tr>\n",
       "      <th>...</th>\n",
       "      <td>...</td>\n",
       "      <td>...</td>\n",
       "      <td>...</td>\n",
       "      <td>...</td>\n",
       "      <td>...</td>\n",
       "    </tr>\n",
       "    <tr>\n",
       "      <th>7608</th>\n",
       "      <td>10869</td>\n",
       "      <td>no_keyword</td>\n",
       "      <td>no_location</td>\n",
       "      <td>Two giant cranes holding a bridge collapse int...</td>\n",
       "      <td>1</td>\n",
       "    </tr>\n",
       "    <tr>\n",
       "      <th>7609</th>\n",
       "      <td>10870</td>\n",
       "      <td>no_keyword</td>\n",
       "      <td>no_location</td>\n",
       "      <td>@aria_ahrary @TheTawniest The out of control w...</td>\n",
       "      <td>1</td>\n",
       "    </tr>\n",
       "    <tr>\n",
       "      <th>7610</th>\n",
       "      <td>10871</td>\n",
       "      <td>no_keyword</td>\n",
       "      <td>no_location</td>\n",
       "      <td>M1.94 [01:04 UTC]?5km S of Volcano Hawaii. htt...</td>\n",
       "      <td>1</td>\n",
       "    </tr>\n",
       "    <tr>\n",
       "      <th>7611</th>\n",
       "      <td>10872</td>\n",
       "      <td>no_keyword</td>\n",
       "      <td>no_location</td>\n",
       "      <td>Police investigating after an e-bike collided ...</td>\n",
       "      <td>1</td>\n",
       "    </tr>\n",
       "    <tr>\n",
       "      <th>7612</th>\n",
       "      <td>10873</td>\n",
       "      <td>no_keyword</td>\n",
       "      <td>no_location</td>\n",
       "      <td>The Latest: More Homes Razed by Northern Calif...</td>\n",
       "      <td>1</td>\n",
       "    </tr>\n",
       "  </tbody>\n",
       "</table>\n",
       "<p>7613 rows × 5 columns</p>\n",
       "</div>"
      ],
      "text/plain": [
       "         id     keyword     location  \\\n",
       "0         1  no_keyword  no_location   \n",
       "1         4  no_keyword  no_location   \n",
       "2         5  no_keyword  no_location   \n",
       "3         6  no_keyword  no_location   \n",
       "4         7  no_keyword  no_location   \n",
       "...     ...         ...          ...   \n",
       "7608  10869  no_keyword  no_location   \n",
       "7609  10870  no_keyword  no_location   \n",
       "7610  10871  no_keyword  no_location   \n",
       "7611  10872  no_keyword  no_location   \n",
       "7612  10873  no_keyword  no_location   \n",
       "\n",
       "                                                   text  target  \n",
       "0     Our Deeds are the Reason of this #earthquake M...       1  \n",
       "1                Forest fire near La Ronge Sask. Canada       1  \n",
       "2     All residents asked to 'shelter in place' are ...       1  \n",
       "3     13,000 people receive #wildfires evacuation or...       1  \n",
       "4     Just got sent this photo from Ruby #Alaska as ...       1  \n",
       "...                                                 ...     ...  \n",
       "7608  Two giant cranes holding a bridge collapse int...       1  \n",
       "7609  @aria_ahrary @TheTawniest The out of control w...       1  \n",
       "7610  M1.94 [01:04 UTC]?5km S of Volcano Hawaii. htt...       1  \n",
       "7611  Police investigating after an e-bike collided ...       1  \n",
       "7612  The Latest: More Homes Razed by Northern Calif...       1  \n",
       "\n",
       "[7613 rows x 5 columns]"
      ]
     },
     "execution_count": 5,
     "metadata": {},
     "output_type": "execute_result"
    }
   ],
   "source": [
    "\n",
    "for df in [df_train, df_test]:\n",
    "    for col in ['keyword', 'location']:\n",
    "        df[col] = df[col].fillna(f'no_{col}')\n",
    "df_train"
   ]
  },
  {
   "cell_type": "markdown",
   "id": "17127adc",
   "metadata": {
    "papermill": {
     "duration": 0.011371,
     "end_time": "2023-08-11T14:29:56.755051",
     "exception": false,
     "start_time": "2023-08-11T14:29:56.743680",
     "status": "completed"
    },
    "tags": []
   },
   "source": [
    "✅**Balanced/Imbalanced**[](http://)\n",
    "\n",
    "We reach that classes are almost equally separated ."
   ]
  },
  {
   "cell_type": "code",
   "execution_count": 6,
   "id": "26e2dfae",
   "metadata": {
    "execution": {
     "iopub.execute_input": "2023-08-11T14:29:56.780756Z",
     "iopub.status.busy": "2023-08-11T14:29:56.780272Z",
     "iopub.status.idle": "2023-08-11T14:29:57.010101Z",
     "shell.execute_reply": "2023-08-11T14:29:57.009200Z"
    },
    "papermill": {
     "duration": 0.246319,
     "end_time": "2023-08-11T14:29:57.013071",
     "exception": false,
     "start_time": "2023-08-11T14:29:56.766752",
     "status": "completed"
    },
    "tags": []
   },
   "outputs": [
    {
     "data": {
      "image/png": "[encoded data removed]",
      "text/plain": [
       "<Figure size 640x480 with 1 Axes>"
      ]
     },
     "metadata": {},
     "output_type": "display_data"
    }
   ],
   "source": [
    "#df_train.target.hist()\n",
    "#df_test.target.hist()\n",
    "sns.countplot(x='target', data=df_train)\n",
    "plt.show()\n"
   ]
  },
  {
   "cell_type": "markdown",
   "id": "90ebc24a",
   "metadata": {
    "papermill": {
     "duration": 0.011794,
     "end_time": "2023-08-11T14:29:57.037085",
     "exception": false,
     "start_time": "2023-08-11T14:29:57.025291",
     "status": "completed"
    },
    "tags": []
   },
   "source": [
    "📈**Discover trend of dataset**[](http://)"
   ]
  },
  {
   "cell_type": "code",
   "execution_count": 7,
   "id": "19638f3b",
   "metadata": {
    "execution": {
     "iopub.execute_input": "2023-08-11T14:29:57.063165Z",
     "iopub.status.busy": "2023-08-11T14:29:57.062702Z",
     "iopub.status.idle": "2023-08-11T14:29:57.440243Z",
     "shell.execute_reply": "2023-08-11T14:29:57.438969Z"
    },
    "papermill": {
     "duration": 0.393576,
     "end_time": "2023-08-11T14:29:57.442727",
     "exception": false,
     "start_time": "2023-08-11T14:29:57.049151",
     "status": "completed"
    },
    "tags": []
   },
   "outputs": [
    {
     "data": {
      "text/html": [
       "<div>\n",
       "<style scoped>\n",
       "    .dataframe tbody tr th:only-of-type {\n",
       "        vertical-align: middle;\n",
       "    }\n",
       "\n",
       "    .dataframe tbody tr th {\n",
       "        vertical-align: top;\n",
       "    }\n",
       "\n",
       "    .dataframe thead th {\n",
       "        text-align: right;\n",
       "    }\n",
       "</style>\n",
       "<table border=\"1\" class=\"dataframe\">\n",
       "  <thead>\n",
       "    <tr style=\"text-align: right;\">\n",
       "      <th></th>\n",
       "      <th>id</th>\n",
       "      <th>keyword</th>\n",
       "      <th>location</th>\n",
       "      <th>text</th>\n",
       "      <th>target</th>\n",
       "    </tr>\n",
       "  </thead>\n",
       "  <tbody>\n",
       "    <tr>\n",
       "      <th>31</th>\n",
       "      <td>48</td>\n",
       "      <td>ablaze</td>\n",
       "      <td>Birmingham</td>\n",
       "      <td>@bbcmtd Wholesale Markets ablaze http://t.co/l...</td>\n",
       "      <td>1</td>\n",
       "    </tr>\n",
       "    <tr>\n",
       "      <th>32</th>\n",
       "      <td>49</td>\n",
       "      <td>ablaze</td>\n",
       "      <td>Est. September 2012 - Bristol</td>\n",
       "      <td>We always try to bring the heavy. #metal #RT h...</td>\n",
       "      <td>0</td>\n",
       "    </tr>\n",
       "    <tr>\n",
       "      <th>33</th>\n",
       "      <td>50</td>\n",
       "      <td>ablaze</td>\n",
       "      <td>AFRICA</td>\n",
       "      <td>#AFRICANBAZE: Breaking news:Nigeria flag set a...</td>\n",
       "      <td>1</td>\n",
       "    </tr>\n",
       "    <tr>\n",
       "      <th>34</th>\n",
       "      <td>52</td>\n",
       "      <td>ablaze</td>\n",
       "      <td>Philadelphia, PA</td>\n",
       "      <td>Crying out for more! Set me ablaze</td>\n",
       "      <td>0</td>\n",
       "    </tr>\n",
       "    <tr>\n",
       "      <th>35</th>\n",
       "      <td>53</td>\n",
       "      <td>ablaze</td>\n",
       "      <td>London, UK</td>\n",
       "      <td>On plus side LOOK AT THE SKY LAST NIGHT IT WAS...</td>\n",
       "      <td>0</td>\n",
       "    </tr>\n",
       "    <tr>\n",
       "      <th>...</th>\n",
       "      <td>...</td>\n",
       "      <td>...</td>\n",
       "      <td>...</td>\n",
       "      <td>...</td>\n",
       "      <td>...</td>\n",
       "    </tr>\n",
       "    <tr>\n",
       "      <th>7575</th>\n",
       "      <td>10826</td>\n",
       "      <td>wrecked</td>\n",
       "      <td>TN</td>\n",
       "      <td>On the bright side I wrecked http://t.co/uEa0t...</td>\n",
       "      <td>0</td>\n",
       "    </tr>\n",
       "    <tr>\n",
       "      <th>7577</th>\n",
       "      <td>10829</td>\n",
       "      <td>wrecked</td>\n",
       "      <td>#NewcastleuponTyne #UK</td>\n",
       "      <td>@widda16 ... He's gone. You can relax. I thoug...</td>\n",
       "      <td>0</td>\n",
       "    </tr>\n",
       "    <tr>\n",
       "      <th>7579</th>\n",
       "      <td>10831</td>\n",
       "      <td>wrecked</td>\n",
       "      <td>Vancouver, Canada</td>\n",
       "      <td>Three days off from work and they've pretty mu...</td>\n",
       "      <td>0</td>\n",
       "    </tr>\n",
       "    <tr>\n",
       "      <th>7580</th>\n",
       "      <td>10832</td>\n",
       "      <td>wrecked</td>\n",
       "      <td>London</td>\n",
       "      <td>#FX #forex #trading Cramer: Iger's 3 words tha...</td>\n",
       "      <td>0</td>\n",
       "    </tr>\n",
       "    <tr>\n",
       "      <th>7581</th>\n",
       "      <td>10833</td>\n",
       "      <td>wrecked</td>\n",
       "      <td>Lincoln</td>\n",
       "      <td>@engineshed Great atmosphere at the British Li...</td>\n",
       "      <td>0</td>\n",
       "    </tr>\n",
       "  </tbody>\n",
       "</table>\n",
       "<p>5080 rows × 5 columns</p>\n",
       "</div>"
      ],
      "text/plain": [
       "         id  keyword                       location  \\\n",
       "31       48   ablaze                     Birmingham   \n",
       "32       49   ablaze  Est. September 2012 - Bristol   \n",
       "33       50   ablaze                         AFRICA   \n",
       "34       52   ablaze               Philadelphia, PA   \n",
       "35       53   ablaze                     London, UK   \n",
       "...     ...      ...                            ...   \n",
       "7575  10826  wrecked                             TN   \n",
       "7577  10829  wrecked         #NewcastleuponTyne #UK   \n",
       "7579  10831  wrecked              Vancouver, Canada   \n",
       "7580  10832  wrecked                        London    \n",
       "7581  10833  wrecked                        Lincoln   \n",
       "\n",
       "                                                   text  target  \n",
       "31    @bbcmtd Wholesale Markets ablaze http://t.co/l...       1  \n",
       "32    We always try to bring the heavy. #metal #RT h...       0  \n",
       "33    #AFRICANBAZE: Breaking news:Nigeria flag set a...       1  \n",
       "34                   Crying out for more! Set me ablaze       0  \n",
       "35    On plus side LOOK AT THE SKY LAST NIGHT IT WAS...       0  \n",
       "...                                                 ...     ...  \n",
       "7575  On the bright side I wrecked http://t.co/uEa0t...       0  \n",
       "7577  @widda16 ... He's gone. You can relax. I thoug...       0  \n",
       "7579  Three days off from work and they've pretty mu...       0  \n",
       "7580  #FX #forex #trading Cramer: Iger's 3 words tha...       0  \n",
       "7581  @engineshed Great atmosphere at the British Li...       0  \n",
       "\n",
       "[5080 rows x 5 columns]"
      ]
     },
     "execution_count": 7,
     "metadata": {},
     "output_type": "execute_result"
    },
    {
     "data": {
      "image/png": "[encoded data removed]",
      "text/plain": [
       "<Figure size 640x480 with 1 Axes>"
      ]
     },
     "metadata": {},
     "output_type": "display_data"
    }
   ],
   "source": [
    "special_indices = df_train[(df_train['location'] == 'no_location')|(df_train['keyword'] == 'no_keyword')].index\n",
    "df_train_clean = df_train.drop(special_indices)\n",
    "\n",
    "#the top 10 most frequent values in the 'keyword' column\n",
    "sns.barplot(y=df_train_clean['keyword'].value_counts()[:10].index,x=df_train_clean['keyword'].value_counts()[:10],\n",
    "            orient='h',palette='cool')\n",
    "df_train_clean"
   ]
  },
  {
   "cell_type": "code",
   "execution_count": 8,
   "id": "d9606035",
   "metadata": {
    "execution": {
     "iopub.execute_input": "2023-08-11T14:29:57.471169Z",
     "iopub.status.busy": "2023-08-11T14:29:57.470755Z",
     "iopub.status.idle": "2023-08-11T14:29:57.749691Z",
     "shell.execute_reply": "2023-08-11T14:29:57.748503Z"
    },
    "papermill": {
     "duration": 0.296134,
     "end_time": "2023-08-11T14:29:57.752148",
     "exception": false,
     "start_time": "2023-08-11T14:29:57.456014",
     "status": "completed"
    },
    "tags": []
   },
   "outputs": [
    {
     "data": {
      "text/plain": [
       "<Axes: xlabel='location'>"
      ]
     },
     "execution_count": 8,
     "metadata": {},
     "output_type": "execute_result"
    },
    {
     "data": {
      "image/png": "[encoded data removed]",
      "text/plain": [
       "<Figure size 640x480 with 1 Axes>"
      ]
     },
     "metadata": {},
     "output_type": "display_data"
    }
   ],
   "source": [
    "# Replacing the ambigious locations name with Standard names\n",
    "df_train_clean['location'].replace({'United States':'USA',\n",
    "                           'New York':'USA',\n",
    "                            \"London\":'UK',\n",
    "                            \"Los Angeles, CA\":'USA',\n",
    "                            \"Washington, D.C.\":'USA',\n",
    "                            \"California\":'USA',\n",
    "                             \"Chicago, IL\":'USA',\n",
    "                             \"Chicago\":'USA',\n",
    "                            \"New York, NY\":'USA',\n",
    "                            \"California, USA\":'USA',\n",
    "                            \"FLorida\":'USA',\n",
    "                            \"Nigeria\":'Africa',\n",
    "                            \"Kenya\":'Africa',\n",
    "                            \"Everywhere\":'Worldwide',\n",
    "                            \"San Francisco\":'USA',\n",
    "                            \"Florida\":'USA',\n",
    "                            \"United Kingdom\":'UK',\n",
    "                            \"Los Angeles\":'USA',\n",
    "                            \"Toronto\":'Canada',\n",
    "                            \"San Francisco, CA\":'USA',\n",
    "                            \"NYC\":'USA',\n",
    "                            \"Seattle\":'USA',\n",
    "                            \"Earth\":'Worldwide',\n",
    "                            \"Ireland\":'UK',\n",
    "                            \"London, England\":'UK',\n",
    "                            \"New York City\":'USA',\n",
    "                            \"Texas\":'USA',\n",
    "                            \"London, UK\":'UK',\n",
    "                            \"Atlanta, GA\":'USA',\n",
    "                            \"Mumbai\":\"India\"},inplace=True)\n",
    "#the top 5 most frequent values in the 'location' column\n",
    "sns.barplot(y=df_train_clean['location'].value_counts()[:5].index,x=df_train_clean['location'].value_counts()[:5],\n",
    "            orient='h',palette='cool')"
   ]
  },
  {
   "cell_type": "markdown",
   "id": "6652a93c",
   "metadata": {
    "papermill": {
     "duration": 0.013233,
     "end_time": "2023-08-11T14:29:57.778997",
     "exception": false,
     "start_time": "2023-08-11T14:29:57.765764",
     "status": "completed"
    },
    "tags": []
   },
   "source": [
    "# **✂️ Preprocessing**"
   ]
  },
  {
   "cell_type": "markdown",
   "id": "33eec2ba",
   "metadata": {
    "papermill": {
     "duration": 0.013,
     "end_time": "2023-08-11T14:29:57.805787",
     "exception": false,
     "start_time": "2023-08-11T14:29:57.792787",
     "status": "completed"
    },
    "tags": []
   },
   "source": [
    "**Difference between EDA and preprocessing :**\n",
    "\n",
    "* EDA : is the initial step in data analysis where you explore and understand the dataset\n",
    "* Preprocessing : The steps required to go from raw data to a fprmat suitable to input to ypur ML model"
   ]
  },
  {
   "cell_type": "markdown",
   "id": "3a7a4f97",
   "metadata": {
    "papermill": {
     "duration": 0.013453,
     "end_time": "2023-08-11T14:29:57.832830",
     "exception": false,
     "start_time": "2023-08-11T14:29:57.819377",
     "status": "completed"
    },
    "tags": []
   },
   "source": [
    "**Text Preprocessing:**\n",
    "* Text cleaning: remove unnecessary characters, HTML tags, special symbols\n",
    "* Stop words removal: common words that don't carry much information\n",
    "* Normalization: convert all words to lowercase to ensure consistency\n",
    "* Stemming or Lemmatization: reduce words to their root\n",
    "* Tokenization: split the text into individual words or tokens"
   ]
  },
  {
   "cell_type": "code",
   "execution_count": 9,
   "id": "b6d0d4d6",
   "metadata": {
    "execution": {
     "iopub.execute_input": "2023-08-11T14:29:57.862699Z",
     "iopub.status.busy": "2023-08-11T14:29:57.862212Z",
     "iopub.status.idle": "2023-08-11T14:30:01.390876Z",
     "shell.execute_reply": "2023-08-11T14:30:01.389759Z"
    },
    "papermill": {
     "duration": 3.546446,
     "end_time": "2023-08-11T14:30:01.393263",
     "exception": false,
     "start_time": "2023-08-11T14:29:57.846817",
     "status": "completed"
    },
    "tags": []
   },
   "outputs": [
    {
     "data": {
      "text/html": [
       "<div>\n",
       "<style scoped>\n",
       "    .dataframe tbody tr th:only-of-type {\n",
       "        vertical-align: middle;\n",
       "    }\n",
       "\n",
       "    .dataframe tbody tr th {\n",
       "        vertical-align: top;\n",
       "    }\n",
       "\n",
       "    .dataframe thead th {\n",
       "        text-align: right;\n",
       "    }\n",
       "</style>\n",
       "<table border=\"1\" class=\"dataframe\">\n",
       "  <thead>\n",
       "    <tr style=\"text-align: right;\">\n",
       "      <th></th>\n",
       "      <th>id</th>\n",
       "      <th>keyword</th>\n",
       "      <th>location</th>\n",
       "      <th>text</th>\n",
       "      <th>target</th>\n",
       "    </tr>\n",
       "  </thead>\n",
       "  <tbody>\n",
       "    <tr>\n",
       "      <th>0</th>\n",
       "      <td>1</td>\n",
       "      <td>no_keyword</td>\n",
       "      <td>no_location</td>\n",
       "      <td>our deeds are the reason of this earthquake ma...</td>\n",
       "      <td>1</td>\n",
       "    </tr>\n",
       "    <tr>\n",
       "      <th>1</th>\n",
       "      <td>4</td>\n",
       "      <td>no_keyword</td>\n",
       "      <td>no_location</td>\n",
       "      <td>forest fire near la ronge sask canada</td>\n",
       "      <td>1</td>\n",
       "    </tr>\n",
       "    <tr>\n",
       "      <th>2</th>\n",
       "      <td>5</td>\n",
       "      <td>no_keyword</td>\n",
       "      <td>no_location</td>\n",
       "      <td>all residents asked to shelter in place are be...</td>\n",
       "      <td>1</td>\n",
       "    </tr>\n",
       "    <tr>\n",
       "      <th>3</th>\n",
       "      <td>6</td>\n",
       "      <td>no_keyword</td>\n",
       "      <td>no_location</td>\n",
       "      <td>people receive wildfires evacuation orders in...</td>\n",
       "      <td>1</td>\n",
       "    </tr>\n",
       "    <tr>\n",
       "      <th>4</th>\n",
       "      <td>7</td>\n",
       "      <td>no_keyword</td>\n",
       "      <td>no_location</td>\n",
       "      <td>just got sent this photo from ruby alaska as s...</td>\n",
       "      <td>1</td>\n",
       "    </tr>\n",
       "    <tr>\n",
       "      <th>...</th>\n",
       "      <td>...</td>\n",
       "      <td>...</td>\n",
       "      <td>...</td>\n",
       "      <td>...</td>\n",
       "      <td>...</td>\n",
       "    </tr>\n",
       "    <tr>\n",
       "      <th>7608</th>\n",
       "      <td>10869</td>\n",
       "      <td>no_keyword</td>\n",
       "      <td>no_location</td>\n",
       "      <td>two giant cranes holding a bridge collapse int...</td>\n",
       "      <td>1</td>\n",
       "    </tr>\n",
       "    <tr>\n",
       "      <th>7609</th>\n",
       "      <td>10870</td>\n",
       "      <td>no_keyword</td>\n",
       "      <td>no_location</td>\n",
       "      <td>ariahrary thetawniest the out of control wild ...</td>\n",
       "      <td>1</td>\n",
       "    </tr>\n",
       "    <tr>\n",
       "      <th>7610</th>\n",
       "      <td>10871</td>\n",
       "      <td>no_keyword</td>\n",
       "      <td>no_location</td>\n",
       "      <td>s of volcano hawaii</td>\n",
       "      <td>1</td>\n",
       "    </tr>\n",
       "    <tr>\n",
       "      <th>7611</th>\n",
       "      <td>10872</td>\n",
       "      <td>no_keyword</td>\n",
       "      <td>no_location</td>\n",
       "      <td>police investigating after an ebike collided w...</td>\n",
       "      <td>1</td>\n",
       "    </tr>\n",
       "    <tr>\n",
       "      <th>7612</th>\n",
       "      <td>10873</td>\n",
       "      <td>no_keyword</td>\n",
       "      <td>no_location</td>\n",
       "      <td>the latest more homes razed by northern califo...</td>\n",
       "      <td>1</td>\n",
       "    </tr>\n",
       "  </tbody>\n",
       "</table>\n",
       "<p>7613 rows × 5 columns</p>\n",
       "</div>"
      ],
      "text/plain": [
       "         id     keyword     location  \\\n",
       "0         1  no_keyword  no_location   \n",
       "1         4  no_keyword  no_location   \n",
       "2         5  no_keyword  no_location   \n",
       "3         6  no_keyword  no_location   \n",
       "4         7  no_keyword  no_location   \n",
       "...     ...         ...          ...   \n",
       "7608  10869  no_keyword  no_location   \n",
       "7609  10870  no_keyword  no_location   \n",
       "7610  10871  no_keyword  no_location   \n",
       "7611  10872  no_keyword  no_location   \n",
       "7612  10873  no_keyword  no_location   \n",
       "\n",
       "                                                   text  target  \n",
       "0     our deeds are the reason of this earthquake ma...       1  \n",
       "1                 forest fire near la ronge sask canada       1  \n",
       "2     all residents asked to shelter in place are be...       1  \n",
       "3      people receive wildfires evacuation orders in...       1  \n",
       "4     just got sent this photo from ruby alaska as s...       1  \n",
       "...                                                 ...     ...  \n",
       "7608  two giant cranes holding a bridge collapse int...       1  \n",
       "7609  ariahrary thetawniest the out of control wild ...       1  \n",
       "7610                               s of volcano hawaii        1  \n",
       "7611  police investigating after an ebike collided w...       1  \n",
       "7612  the latest more homes razed by northern califo...       1  \n",
       "\n",
       "[7613 rows x 5 columns]"
      ]
     },
     "execution_count": 9,
     "metadata": {},
     "output_type": "execute_result"
    }
   ],
   "source": [
    "# Applying a first round of text cleaning techniques\n",
    "\n",
    "def clean_text(tweet):\n",
    "    '''Make text lowercase, remove text in square brackets,remove links,remove punctuation\n",
    "    and remove words containing numbers.'''\n",
    "    ## Use re.sub to replace matched characters with an empty string\n",
    "    #cleaned_text = re.sub(pattern, '', text)\n",
    "    tweet = tweet.lower()\n",
    "    tweet = re.sub('\\[.*?\\]', '', tweet)\n",
    "    tweet = re.sub('https?://\\S+|www\\.\\S+', '', tweet)\n",
    "    tweet = re.sub('<.*?>+', '', tweet)\n",
    "    tweet = re.sub('[%s]' % re.escape(string.punctuation), '', tweet)\n",
    "    tweet = re.sub('\\n', '', tweet)\n",
    "    tweet = re.sub('\\w*\\d\\w*', '', tweet)\n",
    "    tweet = re.sub('ûó', '', tweet)\n",
    "    \n",
    "    # Special characters\n",
    "    \n",
    "    tweet = re.sub(r\"ûª\", \"\", tweet)\n",
    "    tweet = re.sub(r\"ûòåê\", \"\", tweet)\n",
    "    tweet = re.sub(r\"ûò\", \"\", tweet)\n",
    "    tweet = re.sub(r\"aaa\", \"a\", tweet)\n",
    "    tweet = re.sub(r\"ûï\", \"\", tweet)\n",
    "    tweet = re.sub(r\"aa\", \"a\", tweet)\n",
    "    tweet = re.sub(r\"aaallll\", \"al\", tweet)\n",
    "    tweet = re.sub(r\"ûòthe\", \"the\", tweet)\n",
    "    tweet = re.sub(r\"\\x89Û_\", \"\", tweet)\n",
    "    tweet = re.sub(r\"\\x89ÛÒ\", \"\", tweet)\n",
    "    tweet = re.sub(r\"\\x89ÛÓ\", \"\", tweet)\n",
    "    tweet = re.sub(r\"\\x89ÛÏWhen\", \"When\", tweet)\n",
    "    tweet = re.sub(r\"\\x89ÛÏ\", \"\", tweet)\n",
    "    tweet = re.sub(r\"China\\x89Ûªs\", \"China's\", tweet)\n",
    "    tweet = re.sub(r\"let\\x89Ûªs\", \"let's\", tweet)\n",
    "    tweet = re.sub(r\"\\x89Û÷\", \"\", tweet)\n",
    "    tweet = re.sub(r\"\\x89Ûª\", \"\", tweet)\n",
    "    tweet = re.sub(r\"\\x89Û\\x9d\", \"\", tweet)\n",
    "    tweet = re.sub(r\"å_\", \"\", tweet)\n",
    "    tweet = re.sub(r\"\\x89Û¢\", \"\", tweet)\n",
    "    tweet = re.sub(r\"\\x89Û¢åÊ\", \"\", tweet)\n",
    "    tweet = re.sub(r\"fromåÊwounds\", \"from wounds\", tweet)\n",
    "    tweet = re.sub(r\"åÊ\", \"\", tweet)\n",
    "    tweet = re.sub(r\"åÈ\", \"\", tweet)\n",
    "    tweet = re.sub(r\"JapÌ_n\", \"Japan\", tweet)    \n",
    "    tweet = re.sub(r\"Ì©\", \"e\", tweet)\n",
    "    tweet = re.sub(r\"å¨\", \"\", tweet)\n",
    "    tweet = re.sub(r\"SuruÌ¤\", \"Suruc\", tweet)\n",
    "    tweet = re.sub(r\"åÇ\", \"\", tweet)\n",
    "    tweet = re.sub(r\"å£3million\", \"3 million\", tweet)\n",
    "    tweet = re.sub(r\"åÀ\", \"\", tweet)\n",
    "    \n",
    "    # Contractions\n",
    "    tweet = re.sub(r\"he's\", \"he is\", tweet)\n",
    "    tweet = re.sub(r\"there's\", \"there is\", tweet)\n",
    "    tweet = re.sub(r\"We're\", \"We are\", tweet)\n",
    "    tweet = re.sub(r\"That's\", \"That is\", tweet)\n",
    "    tweet = re.sub(r\"won't\", \"will not\", tweet)\n",
    "    tweet = re.sub(r\"they're\", \"they are\", tweet)\n",
    "    tweet = re.sub(r\"Can't\", \"Cannot\", tweet)\n",
    "    tweet = re.sub(r\"wasn't\", \"was not\", tweet)\n",
    "    tweet = re.sub(r\"don\\x89Ûªt\", \"do not\", tweet)\n",
    "    tweet = re.sub(r\"aren't\", \"are not\", tweet)\n",
    "    tweet = re.sub(r\"isn't\", \"is not\", tweet)\n",
    "    tweet = re.sub(r\"What's\", \"What is\", tweet)\n",
    "    tweet = re.sub(r\"haven't\", \"have not\", tweet)\n",
    "    tweet = re.sub(r\"hasn't\", \"has not\", tweet)\n",
    "    tweet = re.sub(r\"There's\", \"There is\", tweet)\n",
    "    tweet = re.sub(r\"He's\", \"He is\", tweet)\n",
    "    tweet = re.sub(r\"It's\", \"It is\", tweet)\n",
    "    tweet = re.sub(r\"You're\", \"You are\", tweet)\n",
    "    tweet = re.sub(r\"I'M\", \"I am\", tweet)\n",
    "    tweet = re.sub(r\"shouldn't\", \"should not\", tweet)\n",
    "    tweet = re.sub(r\"wouldn't\", \"would not\", tweet)\n",
    "    tweet = re.sub(r\"i'm\", \"I am\", tweet)\n",
    "    tweet = re.sub(r\"I\\x89Ûªm\", \"I am\", tweet)\n",
    "    tweet = re.sub(r\"I'm\", \"I am\", tweet)\n",
    "    tweet = re.sub(r\"Isn't\", \"is not\", tweet)\n",
    "    tweet = re.sub(r\"Here's\", \"Here is\", tweet)\n",
    "    tweet = re.sub(r\"you've\", \"you have\", tweet)\n",
    "    tweet = re.sub(r\"you\\x89Ûªve\", \"you have\", tweet)\n",
    "    tweet = re.sub(r\"we're\", \"we are\", tweet)\n",
    "    tweet = re.sub(r\"what's\", \"what is\", tweet)\n",
    "    tweet = re.sub(r\"couldn't\", \"could not\", tweet)\n",
    "    tweet = re.sub(r\"we've\", \"we have\", tweet)\n",
    "    tweet = re.sub(r\"it\\x89Ûªs\", \"it is\", tweet)\n",
    "    tweet = re.sub(r\"doesn\\x89Ûªt\", \"does not\", tweet)\n",
    "    tweet = re.sub(r\"It\\x89Ûªs\", \"It is\", tweet)\n",
    "    tweet = re.sub(r\"Here\\x89Ûªs\", \"Here is\", tweet)\n",
    "    tweet = re.sub(r\"who's\", \"who is\", tweet)\n",
    "    tweet = re.sub(r\"I\\x89Ûªve\", \"I have\", tweet)\n",
    "    tweet = re.sub(r\"y'all\", \"you all\", tweet)\n",
    "    tweet = re.sub(r\"can\\x89Ûªt\", \"cannot\", tweet)\n",
    "    tweet = re.sub(r\"would've\", \"would have\", tweet)\n",
    "    tweet = re.sub(r\"it'll\", \"it will\", tweet)\n",
    "    tweet = re.sub(r\"we'll\", \"we will\", tweet)\n",
    "    tweet = re.sub(r\"wouldn\\x89Ûªt\", \"would not\", tweet)\n",
    "    tweet = re.sub(r\"We've\", \"We have\", tweet)\n",
    "    tweet = re.sub(r\"he'll\", \"he will\", tweet)\n",
    "    tweet = re.sub(r\"Y'all\", \"You all\", tweet)\n",
    "    tweet = re.sub(r\"Weren't\", \"Were not\", tweet)\n",
    "    tweet = re.sub(r\"Didn't\", \"Did not\", tweet)\n",
    "    tweet = re.sub(r\"they'll\", \"they will\", tweet)\n",
    "    tweet = re.sub(r\"they'd\", \"they would\", tweet)\n",
    "    tweet = re.sub(r\"DON'T\", \"DO NOT\", tweet)\n",
    "    tweet = re.sub(r\"That\\x89Ûªs\", \"That is\", tweet)\n",
    "    tweet = re.sub(r\"they've\", \"they have\", tweet)\n",
    "    tweet = re.sub(r\"i'd\", \"I would\", tweet)\n",
    "    tweet = re.sub(r\"should've\", \"should have\", tweet)\n",
    "    tweet = re.sub(r\"You\\x89Ûªre\", \"You are\", tweet)\n",
    "    tweet = re.sub(r\"where's\", \"where is\", tweet)\n",
    "    tweet = re.sub(r\"Don\\x89Ûªt\", \"Do not\", tweet)\n",
    "    tweet = re.sub(r\"we'd\", \"we would\", tweet)\n",
    "    tweet = re.sub(r\"i'll\", \"I will\", tweet)\n",
    "    tweet = re.sub(r\"weren't\", \"were not\", tweet)\n",
    "    tweet = re.sub(r\"They're\", \"They are\", tweet)\n",
    "    tweet = re.sub(r\"Can\\x89Ûªt\", \"Cannot\", tweet)\n",
    "    tweet = re.sub(r\"you\\x89Ûªll\", \"you will\", tweet)\n",
    "    tweet = re.sub(r\"I\\x89Ûªd\", \"I would\", tweet)\n",
    "    tweet = re.sub(r\"let's\", \"let us\", tweet)\n",
    "    tweet = re.sub(r\"it's\", \"it is\", tweet)\n",
    "    tweet = re.sub(r\"can't\", \"cannot\", tweet)\n",
    "    tweet = re.sub(r\"don't\", \"do not\", tweet)\n",
    "    tweet = re.sub(r\"you're\", \"you are\", tweet)\n",
    "    tweet = re.sub(r\"i've\", \"I have\", tweet)\n",
    "    tweet = re.sub(r\"that's\", \"that is\", tweet)\n",
    "    tweet = re.sub(r\"i'll\", \"I will\", tweet)\n",
    "    tweet = re.sub(r\"doesn't\", \"does not\", tweet)\n",
    "    tweet = re.sub(r\"i'd\", \"I would\", tweet)\n",
    "    tweet = re.sub(r\"didn't\", \"did not\", tweet)\n",
    "    tweet = re.sub(r\"ain't\", \"am not\", tweet)\n",
    "    tweet = re.sub(r\"you'll\", \"you will\", tweet)\n",
    "    tweet = re.sub(r\"I've\", \"I have\", tweet)\n",
    "    tweet = re.sub(r\"Don't\", \"do not\", tweet)\n",
    "    tweet = re.sub(r\"I'll\", \"I will\", tweet)\n",
    "    tweet = re.sub(r\"I'd\", \"I would\", tweet)\n",
    "    tweet = re.sub(r\"Let's\", \"Let us\", tweet)\n",
    "    tweet = re.sub(r\"you'd\", \"You would\", tweet)\n",
    "    tweet = re.sub(r\"It's\", \"It is\", tweet)\n",
    "    tweet = re.sub(r\"Ain't\", \"am not\", tweet)\n",
    "    tweet = re.sub(r\"Haven't\", \"Have not\", tweet)\n",
    "    tweet = re.sub(r\"Could've\", \"Could have\", tweet)\n",
    "    tweet = re.sub(r\"youve\", \"you have\", tweet)  \n",
    "    tweet = re.sub(r\"donå«t\", \"do not\", tweet) \n",
    "    return tweet\n",
    "\n",
    "# Remove emoji\n",
    "def remove_emoji(tweet):\n",
    "    emoji_pattern = re.compile(\"[\"\n",
    "                           u\"\\U0001F600-\\U0001F64F\"  # emoticons\n",
    "                           u\"\\U0001F300-\\U0001F5FF\"  # symbols & pictographs\n",
    "                           u\"\\U0001F680-\\U0001F6FF\"  # transport & map symbols\n",
    "                           u\"\\U0001F1E0-\\U0001F1FF\"  # flags (iOS)\n",
    "                           u\"\\U00002702-\\U000027B0\"\n",
    "                           u\"\\U000024C2-\\U0001F251\"\n",
    "                           \"]+\", flags=re.UNICODE)\n",
    "    return emoji_pattern.sub(r'', tweet)\n",
    "\n",
    "\n",
    "# Applying the cleaning function to both test and training datasets\n",
    "df_train['text'] = df_train['text'].apply(lambda x: clean_text(x))\n",
    "df_test['text'] = df_test['text'].apply(lambda x: clean_text(x))\n",
    "df_train['text'] = df_train['text'].apply(lambda x: remove_emoji(x))\n",
    "df_test['text'] = df_test['text'].apply(lambda x: remove_emoji(x))\n",
    "df_train"
   ]
  },
  {
   "cell_type": "markdown",
   "id": "85ed2349",
   "metadata": {
    "papermill": {
     "duration": 0.013635,
     "end_time": "2023-08-11T14:30:01.420831",
     "exception": false,
     "start_time": "2023-08-11T14:30:01.407196",
     "status": "completed"
    },
    "tags": []
   },
   "source": [
    "**Tokenization:**\n",
    "* Whitespace Tokenization: This is the simplest form of tokenization, where the text is split based on whitespace characters (space, tab, newline)\n",
    "* Word Tokenization (using NLTK): The NLTK library in Python provides a word tokenizer that can handle more complex tokenization cases, such as handling punctuation, contractions, and hyphenated words\n",
    "* Subword Tokenization (using BPE or SentencePiece): Subword tokenization is useful for languages with complex word formation or for handling out-of-vocabulary (OOV) words. Byte Pair Encoding (BPE) and SentencePiece are popular subword tokenization algorithms.\n",
    "\n",
    "**Remove stop words**\n",
    "* Using NLTK (Natural Language Toolkit)\n",
    "* Using spaCy"
   ]
  },
  {
   "cell_type": "code",
   "execution_count": 10,
   "id": "70668c66",
   "metadata": {
    "execution": {
     "iopub.execute_input": "2023-08-11T14:30:01.450953Z",
     "iopub.status.busy": "2023-08-11T14:30:01.450271Z",
     "iopub.status.idle": "2023-08-11T14:30:41.058603Z",
     "shell.execute_reply": "2023-08-11T14:30:41.057438Z"
    },
    "papermill": {
     "duration": 39.639763,
     "end_time": "2023-08-11T14:30:41.074497",
     "exception": false,
     "start_time": "2023-08-11T14:30:01.434734",
     "status": "completed"
    },
    "tags": []
   },
   "outputs": [
    {
     "name": "stdout",
     "output_type": "stream",
     "text": [
      "[nltk_data] Downloading package punkt to /usr/share/nltk_data...\n",
      "[nltk_data]   Package punkt is already up-to-date!\n"
     ]
    },
    {
     "data": {
      "text/html": [
       "<div>\n",
       "<style scoped>\n",
       "    .dataframe tbody tr th:only-of-type {\n",
       "        vertical-align: middle;\n",
       "    }\n",
       "\n",
       "    .dataframe tbody tr th {\n",
       "        vertical-align: top;\n",
       "    }\n",
       "\n",
       "    .dataframe thead th {\n",
       "        text-align: right;\n",
       "    }\n",
       "</style>\n",
       "<table border=\"1\" class=\"dataframe\">\n",
       "  <thead>\n",
       "    <tr style=\"text-align: right;\">\n",
       "      <th></th>\n",
       "      <th>id</th>\n",
       "      <th>keyword</th>\n",
       "      <th>location</th>\n",
       "      <th>text</th>\n",
       "      <th>target</th>\n",
       "    </tr>\n",
       "  </thead>\n",
       "  <tbody>\n",
       "    <tr>\n",
       "      <th>0</th>\n",
       "      <td>1</td>\n",
       "      <td>no_keyword</td>\n",
       "      <td>no_location</td>\n",
       "      <td>deed reason earthquak may allah forgiv us</td>\n",
       "      <td>1</td>\n",
       "    </tr>\n",
       "    <tr>\n",
       "      <th>1</th>\n",
       "      <td>4</td>\n",
       "      <td>no_keyword</td>\n",
       "      <td>no_location</td>\n",
       "      <td>forest fire near la rong sask canada</td>\n",
       "      <td>1</td>\n",
       "    </tr>\n",
       "    <tr>\n",
       "      <th>2</th>\n",
       "      <td>5</td>\n",
       "      <td>no_keyword</td>\n",
       "      <td>no_location</td>\n",
       "      <td>resid ask shelter place notifi offic evacu she...</td>\n",
       "      <td>1</td>\n",
       "    </tr>\n",
       "    <tr>\n",
       "      <th>3</th>\n",
       "      <td>6</td>\n",
       "      <td>no_keyword</td>\n",
       "      <td>no_location</td>\n",
       "      <td>peopl receiv wildfir evacu order california</td>\n",
       "      <td>1</td>\n",
       "    </tr>\n",
       "    <tr>\n",
       "      <th>4</th>\n",
       "      <td>7</td>\n",
       "      <td>no_keyword</td>\n",
       "      <td>no_location</td>\n",
       "      <td>got sent photo rubi alaska smoke wildfir pour ...</td>\n",
       "      <td>1</td>\n",
       "    </tr>\n",
       "    <tr>\n",
       "      <th>...</th>\n",
       "      <td>...</td>\n",
       "      <td>...</td>\n",
       "      <td>...</td>\n",
       "      <td>...</td>\n",
       "      <td>...</td>\n",
       "    </tr>\n",
       "    <tr>\n",
       "      <th>7608</th>\n",
       "      <td>10869</td>\n",
       "      <td>no_keyword</td>\n",
       "      <td>no_location</td>\n",
       "      <td>two giant crane hold bridg collaps nearbi home</td>\n",
       "      <td>1</td>\n",
       "    </tr>\n",
       "    <tr>\n",
       "      <th>7609</th>\n",
       "      <td>10870</td>\n",
       "      <td>no_keyword</td>\n",
       "      <td>no_location</td>\n",
       "      <td>ariahrari thetawniest control wild fire califo...</td>\n",
       "      <td>1</td>\n",
       "    </tr>\n",
       "    <tr>\n",
       "      <th>7610</th>\n",
       "      <td>10871</td>\n",
       "      <td>no_keyword</td>\n",
       "      <td>no_location</td>\n",
       "      <td>volcano hawaii</td>\n",
       "      <td>1</td>\n",
       "    </tr>\n",
       "    <tr>\n",
       "      <th>7611</th>\n",
       "      <td>10872</td>\n",
       "      <td>no_keyword</td>\n",
       "      <td>no_location</td>\n",
       "      <td>polic investig ebik collid car littl portug eb...</td>\n",
       "      <td>1</td>\n",
       "    </tr>\n",
       "    <tr>\n",
       "      <th>7612</th>\n",
       "      <td>10873</td>\n",
       "      <td>no_keyword</td>\n",
       "      <td>no_location</td>\n",
       "      <td>latest home raze northern california wildfir a...</td>\n",
       "      <td>1</td>\n",
       "    </tr>\n",
       "  </tbody>\n",
       "</table>\n",
       "<p>7613 rows × 5 columns</p>\n",
       "</div>"
      ],
      "text/plain": [
       "         id     keyword     location  \\\n",
       "0         1  no_keyword  no_location   \n",
       "1         4  no_keyword  no_location   \n",
       "2         5  no_keyword  no_location   \n",
       "3         6  no_keyword  no_location   \n",
       "4         7  no_keyword  no_location   \n",
       "...     ...         ...          ...   \n",
       "7608  10869  no_keyword  no_location   \n",
       "7609  10870  no_keyword  no_location   \n",
       "7610  10871  no_keyword  no_location   \n",
       "7611  10872  no_keyword  no_location   \n",
       "7612  10873  no_keyword  no_location   \n",
       "\n",
       "                                                   text  target  \n",
       "0             deed reason earthquak may allah forgiv us       1  \n",
       "1                  forest fire near la rong sask canada       1  \n",
       "2     resid ask shelter place notifi offic evacu she...       1  \n",
       "3           peopl receiv wildfir evacu order california       1  \n",
       "4     got sent photo rubi alaska smoke wildfir pour ...       1  \n",
       "...                                                 ...     ...  \n",
       "7608     two giant crane hold bridg collaps nearbi home       1  \n",
       "7609  ariahrari thetawniest control wild fire califo...       1  \n",
       "7610                                     volcano hawaii       1  \n",
       "7611  polic investig ebik collid car littl portug eb...       1  \n",
       "7612  latest home raze northern california wildfir a...       1  \n",
       "\n",
       "[7613 rows x 5 columns]"
      ]
     },
     "execution_count": 10,
     "metadata": {},
     "output_type": "execute_result"
    }
   ],
   "source": [
    "\n",
    "import nltk\n",
    "from nltk.stem import PorterStemmer\n",
    "from nltk.tokenize import word_tokenize\n",
    "nltk.download('punkt')\n",
    "from nltk.corpus import stopwords\n",
    "from pandas.core import apply\n",
    "\n",
    "def preprocessing (text):\n",
    "    \n",
    "    # Tokenize the text\n",
    "    words = word_tokenize(text)\n",
    "    \n",
    "    # Remove stopwords\n",
    "    words = [w for w in words if w not in stopwords.words('english')]\n",
    "    \n",
    "    # Apply stemming to each word\n",
    "    stemmer = PorterStemmer()\n",
    "    stemmed_words = [stemmer.stem(w) for w in words]\n",
    "    \n",
    "    # Join stemmed words back into a single string\n",
    "    processed_text = ' '.join(stemmed_words)\n",
    "    \n",
    "    return processed_text\n",
    "\n",
    "df_train['text'] = df_train['text'].apply(lambda x: preprocessing(x))\n",
    "df_test['text'] = df_test['text'].apply(lambda x: preprocessing(x))\n",
    "df_train\n"
   ]
  },
  {
   "cell_type": "markdown",
   "id": "c504aaa6",
   "metadata": {
    "papermill": {
     "duration": 0.014413,
     "end_time": "2023-08-11T14:30:41.103058",
     "exception": false,
     "start_time": "2023-08-11T14:30:41.088645",
     "status": "completed"
    },
    "tags": []
   },
   "source": [
    "# **📌Feature Extractions**"
   ]
  },
  {
   "cell_type": "markdown",
   "id": "541a8e9b",
   "metadata": {
    "papermill": {
     "duration": 0.014226,
     "end_time": "2023-08-11T14:30:41.132141",
     "exception": false,
     "start_time": "2023-08-11T14:30:41.117915",
     "status": "completed"
    },
    "tags": []
   },
   "source": [
    "\n",
    " Transform the processed text data into numerical features that can be used by ML model\n",
    " Some common techniques for text feature extraction:\n",
    "*  **Bag of Words (BoW)**: In this approach, a document is represented as a vector where each element corresponds to the count of a particular word in the document. Stop words (common words like \"the,\" \"and,\" \"is\") are often removed, and the resulting vector captures the frequency of words in the document. The order of words is not considered in this method.\n",
    "* **Term Frequency-Inverse Document Frequency (TF-IDF)**: This method considers the importance of words in a document relative to their frequency in the entire corpus. Words that appear frequently in a specific document but infrequently across the corpus are assigned higher weights. This helps in capturing the significance of words within a document.\n",
    "* **Word Embeddings**: Word embeddings are dense vector representations of words that capture semantic relationships between words. Techniques like Word2Vec, GloVe, and FastText learn embeddings by considering the context of words in a large corpus. These embeddings can be used as features for downstream tasks.\n",
    "* **Word n-grams**: Instead of representing single words, n-grams capture sequences of n words. This helps in preserving some contextual information. For example, bigrams (2-word sequences) or trigrams (3-word sequences) can be used.\n",
    "* **Pretrained Language Models**: Advanced models like GPT, BERT, and their variants learn contextualized representations of words and sentences. These models can be fine-tuned for specific tasks or used to extract features that capture rich semantic information.\n",
    "\n"
   ]
  },
  {
   "cell_type": "code",
   "execution_count": 11,
   "id": "1d754796",
   "metadata": {
    "execution": {
     "iopub.execute_input": "2023-08-11T14:30:41.163413Z",
     "iopub.status.busy": "2023-08-11T14:30:41.162668Z",
     "iopub.status.idle": "2023-08-11T14:30:42.109658Z",
     "shell.execute_reply": "2023-08-11T14:30:42.108039Z"
    },
    "papermill": {
     "duration": 0.965859,
     "end_time": "2023-08-11T14:30:42.112487",
     "exception": false,
     "start_time": "2023-08-11T14:30:41.146628",
     "status": "completed"
    },
    "tags": []
   },
   "outputs": [
    {
     "name": "stdout",
     "output_type": "stream",
     "text": [
      "(7613, 13448)\n",
      "(7613, 13448)\n",
      "[[0 0 0 ... 0 0 0]]\n",
      "(7613, 58170)\n",
      "(7613, 58170)\n",
      "[[0. 0. 0. ... 0. 0. 0.]]\n"
     ]
    }
   ],
   "source": [
    "#BOW\n",
    "#There is a lot of parameters for preprocessing\n",
    "from sklearn.feature_extraction.text import CountVectorizer,TfidfVectorizer\n",
    "bow = CountVectorizer()\n",
    "bow_train = bow.fit_transform(df_train['text'])\n",
    "bow_test = bow.transform(df_test[\"text\"])\n",
    "#print((bow.vocabulary_))\n",
    "#print(bow.get_feature_names_out())\n",
    "print(bow_train.shape)\n",
    "print(bow_test.shape)\n",
    "# Keeping only non-zero elements to preserve space \n",
    "print(bow_train[0].todense())\n",
    "\n",
    "#TF-IDF\n",
    "tfidf = TfidfVectorizer(ngram_range=(1, 2))\n",
    "train_tfidf = tfidf.fit_transform(df_train['text'])\n",
    "test_tfidf = tfidf.transform(df_test[\"text\"])\n",
    "#print((tfidf.vocabulary_))\n",
    "#print(bow.get_feature_names_out())\n",
    "print(train_tfidf.shape)\n",
    "print(test_tfidf.shape)\n",
    "print(train_tfidf[0].todense())\n"
   ]
  },
  {
   "cell_type": "markdown",
   "id": "e01e05a9",
   "metadata": {
    "papermill": {
     "duration": 0.014141,
     "end_time": "2023-08-11T14:30:42.141054",
     "exception": false,
     "start_time": "2023-08-11T14:30:42.126913",
     "status": "completed"
    },
    "tags": []
   },
   "source": [
    "# **🔎Model selection**"
   ]
  },
  {
   "cell_type": "markdown",
   "id": "586702cb",
   "metadata": {
    "papermill": {
     "duration": 0.01414,
     "end_time": "2023-08-11T14:30:42.169583",
     "exception": false,
     "start_time": "2023-08-11T14:30:42.155443",
     "status": "completed"
    },
    "tags": []
   },
   "source": [
    "**Logistic Regression**"
   ]
  },
  {
   "cell_type": "code",
   "execution_count": 12,
   "id": "3ff4a0cd",
   "metadata": {
    "execution": {
     "iopub.execute_input": "2023-08-11T14:30:42.200438Z",
     "iopub.status.busy": "2023-08-11T14:30:42.199979Z",
     "iopub.status.idle": "2023-08-11T14:30:44.926529Z",
     "shell.execute_reply": "2023-08-11T14:30:44.925328Z"
    },
    "papermill": {
     "duration": 2.745168,
     "end_time": "2023-08-11T14:30:44.929134",
     "exception": false,
     "start_time": "2023-08-11T14:30:42.183966",
     "status": "completed"
    },
    "tags": []
   },
   "outputs": [
    {
     "data": {
      "image/png": "[encoded data removed]",
      "text/plain": [
       "<Figure size 640x480 with 1 Axes>"
      ]
     },
     "metadata": {},
     "output_type": "display_data"
    },
    {
     "name": "stdout",
     "output_type": "stream",
     "text": [
      "\u001b[1m Mean f1: 0.598398051191276\n"
     ]
    }
   ],
   "source": [
    "#Logistic Regression with BOW\n",
    "from sklearn.linear_model import LogisticRegression\n",
    "from sklearn import model_selection\n",
    "#function for plotting\n",
    "def plot_learning_evolution(x,y,title):\n",
    "    plt.plot(x, y, marker='o')\n",
    "    plt.xlabel('Number of Cross-Validation Folds (cv)')\n",
    "    plt.ylabel('F1 Score')\n",
    "    plt.title(title)\n",
    "    plt.show()\n",
    "    \n",
    "clf = LogisticRegression()\n",
    "# Perform 5-fold cross-validation and use accuracy as the scoring metric\n",
    "scores_bow = model_selection.cross_val_score(clf, bow_train , df_train[\"target\"], cv=5, scoring=\"f1\")\n",
    "cv_values = range(1, len(scores_bow) + 1)  # x-axis: cv\n",
    "score_values = scores_bow  # y-axis: scores\n",
    "plot_learning_evolution(cv_values,score_values,'Logistic Regression with BOW')\n",
    "print(\"\\033[1m Mean f1:\", scores_bow.mean())\n"
   ]
  },
  {
   "cell_type": "code",
   "execution_count": 13,
   "id": "44a5c935",
   "metadata": {
    "execution": {
     "iopub.execute_input": "2023-08-11T14:30:44.961788Z",
     "iopub.status.busy": "2023-08-11T14:30:44.961352Z",
     "iopub.status.idle": "2023-08-11T14:30:52.691654Z",
     "shell.execute_reply": "2023-08-11T14:30:52.690378Z"
    },
    "papermill": {
     "duration": 7.751064,
     "end_time": "2023-08-11T14:30:52.695514",
     "exception": false,
     "start_time": "2023-08-11T14:30:44.944450",
     "status": "completed"
    },
    "tags": []
   },
   "outputs": [
    {
     "data": {
      "image/png": "[encoded data removed]",
      "text/plain": [
       "<Figure size 640x480 with 1 Axes>"
      ]
     },
     "metadata": {},
     "output_type": "display_data"
    },
    {
     "name": "stdout",
     "output_type": "stream",
     "text": [
      "\u001b[1m Mean f1: 0.5090994027800585\n"
     ]
    }
   ],
   "source": [
    "#Logistic Regression with TF-IDF\n",
    "clf_tfidf = LogisticRegression()\n",
    "scores_tfidf = model_selection.cross_val_score(clf_tfidf, train_tfidf, df_train[\"target\"], cv=5, scoring=\"f1\")\n",
    "plot_learning_evolution(cv_values,scores_tfidf,'Logistic Regression with TF-IDF')\n",
    "print(\"\\033[1m Mean f1:\", scores_tfidf.mean())\n"
   ]
  },
  {
   "cell_type": "markdown",
   "id": "eb43cc5a",
   "metadata": {
    "papermill": {
     "duration": 0.016753,
     "end_time": "2023-08-11T14:30:52.728688",
     "exception": false,
     "start_time": "2023-08-11T14:30:52.711935",
     "status": "completed"
    },
    "tags": []
   },
   "source": [
    "**Naive Bayes**"
   ]
  },
  {
   "cell_type": "code",
   "execution_count": 14,
   "id": "90c818ea",
   "metadata": {
    "execution": {
     "iopub.execute_input": "2023-08-11T14:30:52.764954Z",
     "iopub.status.busy": "2023-08-11T14:30:52.764541Z",
     "iopub.status.idle": "2023-08-11T14:30:53.134155Z",
     "shell.execute_reply": "2023-08-11T14:30:53.132777Z"
    },
    "papermill": {
     "duration": 0.390951,
     "end_time": "2023-08-11T14:30:53.136844",
     "exception": false,
     "start_time": "2023-08-11T14:30:52.745893",
     "status": "completed"
    },
    "tags": []
   },
   "outputs": [
    {
     "data": {
      "image/png": "[encoded data removed]",
      "text/plain": [
       "<Figure size 640x480 with 1 Axes>"
      ]
     },
     "metadata": {},
     "output_type": "display_data"
    },
    {
     "name": "stdout",
     "output_type": "stream",
     "text": [
      "\u001b[1m Mean f1: 0.6632844204006008\n"
     ]
    }
   ],
   "source": [
    "#Naive Bayes with BOW\n",
    "from sklearn.naive_bayes import MultinomialNB\n",
    "clf_NB = MultinomialNB()\n",
    "scores_NB = model_selection.cross_val_score(clf_NB, bow_train , df_train[\"target\"], cv=5, scoring=\"f1\")\n",
    "plot_learning_evolution(cv_values,scores_NB,'Naive Bayes with BOW')\n",
    "print(\"\\033[1m Mean f1:\", scores_NB.mean())\n"
   ]
  },
  {
   "cell_type": "markdown",
   "id": "4a72b8e3",
   "metadata": {
    "papermill": {
     "duration": 0.01695,
     "end_time": "2023-08-11T14:30:53.170852",
     "exception": false,
     "start_time": "2023-08-11T14:30:53.153902",
     "status": "completed"
    },
    "tags": []
   },
   "source": [
    "\n",
    "\n",
    "\n",
    "Model selection\n",
    "model train\n",
    "evaluation"
   ]
  },
  {
   "cell_type": "code",
   "execution_count": 15,
   "id": "f4e54781",
   "metadata": {
    "execution": {
     "iopub.execute_input": "2023-08-11T14:30:53.207051Z",
     "iopub.status.busy": "2023-08-11T14:30:53.206599Z",
     "iopub.status.idle": "2023-08-11T14:30:53.595989Z",
     "shell.execute_reply": "2023-08-11T14:30:53.594751Z"
    },
    "papermill": {
     "duration": 0.41294,
     "end_time": "2023-08-11T14:30:53.600776",
     "exception": false,
     "start_time": "2023-08-11T14:30:53.187836",
     "status": "completed"
    },
    "tags": []
   },
   "outputs": [
    {
     "data": {
      "image/png": "[encoded data removed]",
      "text/plain": [
       "<Figure size 640x480 with 1 Axes>"
      ]
     },
     "metadata": {},
     "output_type": "display_data"
    },
    {
     "name": "stdout",
     "output_type": "stream",
     "text": [
      "\u001b[1m Mean f1: 0.618621086640702\n"
     ]
    }
   ],
   "source": [
    "# Fitting a simple Naive Bayes with TF-IDF\n",
    "clf_NB = MultinomialNB()\n",
    "scores_NB_tfidf = model_selection.cross_val_score(clf_NB, train_tfidf , df_train[\"target\"], cv=5, scoring=\"f1\")\n",
    "plot_learning_evolution(cv_values,scores_NB_tfidf,'Naive Bayes with TF-IDF')\n",
    "print(\"\\033[1m Mean f1:\", scores_NB_tfidf.mean())\n"
   ]
  },
  {
   "cell_type": "markdown",
   "id": "d6433c35",
   "metadata": {
    "papermill": {
     "duration": 0.017738,
     "end_time": "2023-08-11T14:30:53.638083",
     "exception": false,
     "start_time": "2023-08-11T14:30:53.620345",
     "status": "completed"
    },
    "tags": []
   },
   "source": [
    "**SVM**"
   ]
  },
  {
   "cell_type": "code",
   "execution_count": 16,
   "id": "c3dc92fc",
   "metadata": {
    "execution": {
     "iopub.execute_input": "2023-08-11T14:30:53.678119Z",
     "iopub.status.busy": "2023-08-11T14:30:53.677690Z",
     "iopub.status.idle": "2023-08-11T14:31:17.366713Z",
     "shell.execute_reply": "2023-08-11T14:31:17.365558Z"
    },
    "papermill": {
     "duration": 23.714295,
     "end_time": "2023-08-11T14:31:17.370328",
     "exception": false,
     "start_time": "2023-08-11T14:30:53.656033",
     "status": "completed"
    },
    "tags": []
   },
   "outputs": [
    {
     "data": {
      "image/png": "[encoded data removed]",
      "text/plain": [
       "<Figure size 640x480 with 1 Axes>"
      ]
     },
     "metadata": {},
     "output_type": "display_data"
    },
    {
     "name": "stdout",
     "output_type": "stream",
     "text": [
      "\u001b[1m Mean f1: 0.5797950727730947\n"
     ]
    }
   ],
   "source": [
    "#SVM with BOW\n",
    "from sklearn.svm import SVC\n",
    "sv=SVC()\n",
    "scores_sv = model_selection.cross_val_score(sv, bow_train , df_train[\"target\"], cv=5, scoring=\"f1\")\n",
    "plot_learning_evolution(cv_values,scores_sv,'SVM with BOW')\n",
    "print(\"\\033[1m Mean f1:\", scores_sv.mean())\n"
   ]
  },
  {
   "cell_type": "code",
   "execution_count": 17,
   "id": "57ccdb79",
   "metadata": {
    "execution": {
     "iopub.execute_input": "2023-08-11T14:31:17.410884Z",
     "iopub.status.busy": "2023-08-11T14:31:17.410454Z",
     "iopub.status.idle": "2023-08-11T14:31:50.206766Z",
     "shell.execute_reply": "2023-08-11T14:31:50.205455Z"
    },
    "papermill": {
     "duration": 32.839395,
     "end_time": "2023-08-11T14:31:50.229288",
     "exception": false,
     "start_time": "2023-08-11T14:31:17.389893",
     "status": "completed"
    },
    "tags": []
   },
   "outputs": [
    {
     "data": {
      "image/png": "[encoded data removed]",
      "text/plain": [
       "<Figure size 640x480 with 1 Axes>"
      ]
     },
     "metadata": {},
     "output_type": "display_data"
    },
    {
     "name": "stdout",
     "output_type": "stream",
     "text": [
      "\u001b[1m Mean f1: 0.45709979728628786\n"
     ]
    }
   ],
   "source": [
    "#SVM with TF-IDF\n",
    "from sklearn.svm import SVC\n",
    "sv=SVC()\n",
    "scores_sv_tfidf = model_selection.cross_val_score(sv, train_tfidf , df_train[\"target\"], cv=5, scoring=\"f1\")\n",
    "plot_learning_evolution(cv_values,scores_sv_tfidf,'SVM with TF-IDF')\n",
    "print(\"\\033[1m Mean f1:\", scores_sv_tfidf.mean())\n"
   ]
  },
  {
   "cell_type": "markdown",
   "id": "fb5351ab",
   "metadata": {
    "papermill": {
     "duration": 0.020862,
     "end_time": "2023-08-11T14:31:50.269420",
     "exception": false,
     "start_time": "2023-08-11T14:31:50.248558",
     "status": "completed"
    },
    "tags": []
   },
   "source": [
    "# **🎯Model Training & Model Evaluation**"
   ]
  },
  {
   "cell_type": "markdown",
   "id": "ed26a1b7",
   "metadata": {
    "papermill": {
     "duration": 0.019396,
     "end_time": "2023-08-11T14:31:50.308387",
     "exception": false,
     "start_time": "2023-08-11T14:31:50.288991",
     "status": "completed"
    },
    "tags": []
   },
   "source": [
    "As we have seen in the graphs above, our dataset works better with the BOW method. \n",
    "Therefore, we train our models with the set of vectors obtained from this method."
   ]
  },
  {
   "cell_type": "code",
   "execution_count": 18,
   "id": "5bc68844",
   "metadata": {
    "execution": {
     "iopub.execute_input": "2023-08-11T14:31:50.349395Z",
     "iopub.status.busy": "2023-08-11T14:31:50.348947Z",
     "iopub.status.idle": "2023-08-11T14:32:02.348201Z",
     "shell.execute_reply": "2023-08-11T14:32:02.346489Z"
    },
    "papermill": {
     "duration": 12.022961,
     "end_time": "2023-08-11T14:32:02.350773",
     "exception": false,
     "start_time": "2023-08-11T14:31:50.327812",
     "status": "completed"
    },
    "tags": []
   },
   "outputs": [
    {
     "name": "stdout",
     "output_type": "stream",
     "text": [
      "              precision    recall  f1-score   support\n",
      "\n",
      "           0       0.93      0.98      0.96      4342\n",
      "           1       0.97      0.90      0.94      3271\n",
      "\n",
      "    accuracy                           0.95      7613\n",
      "   macro avg       0.95      0.94      0.95      7613\n",
      "weighted avg       0.95      0.95      0.95      7613\n",
      "\n",
      "  ==================================================\n",
      "              precision    recall  f1-score   support\n",
      "\n",
      "           0       0.89      0.94      0.92      4342\n",
      "           1       0.91      0.85      0.88      3271\n",
      "\n",
      "    accuracy                           0.90      7613\n",
      "   macro avg       0.90      0.90      0.90      7613\n",
      "weighted avg       0.90      0.90      0.90      7613\n",
      "\n",
      "  ==================================================\n",
      "              precision    recall  f1-score   support\n",
      "\n",
      "           0       0.92      0.99      0.95      4342\n",
      "           1       0.98      0.89      0.93      3271\n",
      "\n",
      "    accuracy                           0.94      7613\n",
      "   macro avg       0.95      0.94      0.94      7613\n",
      "weighted avg       0.95      0.94      0.94      7613\n",
      "\n",
      "  ==================================================\n"
     ]
    }
   ],
   "source": [
    "from sklearn.metrics import classification_report\n",
    "models=[clf,clf_NB,sv]\n",
    "\n",
    "for model in models:\n",
    "    \n",
    "    model.fit(bow_train,df_train['target'])\n",
    "    y_pred=model.predict(bow_test)\n",
    "    print(classification_report(df_test['target'],y_pred))\n",
    "    print(\"  ==================================================\")\n",
    "\n",
    "\n"
   ]
  }
 ],
 "metadata": {
  "kernelspec": {
   "display_name": "Python 3",
   "language": "python",
   "name": "python3"
  },
  "language_info": {
   "codemirror_mode": {
    "name": "ipython",
    "version": 3
   },
   "file_extension": ".py",
   "mimetype": "text/x-python",
   "name": "python",
   "nbconvert_exporter": "python",
   "pygments_lexer": "ipython3",
   "version": "3.10.12"
  },
  "papermill": {
   "default_parameters": {},
   "duration": 139.677628,
   "end_time": "2023-08-11T14:32:03.495708",
   "environment_variables": {},
   "exception": null,
   "input_path": "__notebook__.ipynb",
   "output_path": "__notebook__.ipynb",
   "parameters": {},
   "start_time": "2023-08-11T14:29:43.818080",
   "version": "2.4.0"
  }
 },
 "nbformat": 4,
 "nbformat_minor": 5
}
